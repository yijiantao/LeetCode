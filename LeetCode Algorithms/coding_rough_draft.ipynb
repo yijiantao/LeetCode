{
 "nbformat": 4,
 "nbformat_minor": 2,
 "metadata": {
  "language_info": {
   "name": "python",
   "codemirror_mode": {
    "name": "ipython",
    "version": 3
   },
   "version": "3.7.3"
  },
  "orig_nbformat": 2,
  "file_extension": ".py",
  "mimetype": "text/x-python",
  "name": "python",
  "npconvert_exporter": "python",
  "pygments_lexer": "ipython3",
  "version": 3
 },
 "cells": [
  {
   "cell_type": "code",
   "execution_count": 15,
   "metadata": {},
   "outputs": [
    {
     "name": "stdout",
     "output_type": "stream",
     "text": "2\n"
    }
   ],
   "source": [
    "def searchInsert(nums, target):\n",
    "        for _index, _value in enumerate(nums):\n",
    "            if target <= _value:\n",
    "                return _index\n",
    "        return _index + 1\n",
    "nums, target = [1,3,5,6], 5\n",
    "print (searchInsert(nums = nums, target = target))"
   ]
  },
  {
   "cell_type": "code",
   "execution_count": null,
   "metadata": {},
   "outputs": [],
   "source": []
  }
 ]
}