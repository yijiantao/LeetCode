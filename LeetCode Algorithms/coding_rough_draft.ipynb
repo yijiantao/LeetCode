{
 "nbformat": 4,
 "nbformat_minor": 2,
 "metadata": {
  "language_info": {
   "name": "python",
   "codemirror_mode": {
    "name": "ipython",
    "version": 3
   },
   "version": "3.7.3"
  },
  "orig_nbformat": 2,
  "file_extension": ".py",
  "mimetype": "text/x-python",
  "name": "python",
  "npconvert_exporter": "python",
  "pygments_lexer": "ipython3",
  "version": 3
 },
 "cells": [
  {
   "cell_type": "code",
   "execution_count": 15,
   "metadata": {},
   "outputs": [
    {
     "name": "stdout",
     "output_type": "stream",
     "text": "2\n"
    }
   ],
   "source": [
    "def searchInsert(nums, target):\n",
    "        for _index, _value in enumerate(nums):\n",
    "            if target <= _value:\n",
    "                return _index\n",
    "        return _index + 1\n",
    "nums, target = [1,3,5,6], 5\n",
    "print (searchInsert(nums = nums, target = target))"
   ]
  },
  {
   "cell_type": "code",
   "execution_count": 5,
   "metadata": {},
   "outputs": [
    {
     "name": "stdout",
     "output_type": "stream",
     "text": "1111\n"
    }
   ],
   "source": [
    "import _thread\n",
    "import time\n",
    "\n",
    "def print_time(threadName, delay):\n",
    "    count = 0\n",
    "    while count < 5:\n",
    "        time.sleep(delay)\n",
    "        count += 1\n",
    "        print (str(threadName), str(time.ctime(time.time())))\n",
    "\n",
    "try:\n",
    "    print ('1111')\n",
    "    _thread.start_new_thread(print_time, ('Thread-1', 2))\n",
    "    _thread.start_new_thread(print_time, ('Thread-2', 4))\n",
    "\n",
    "except:\n",
    "    print ('Error')"
   ]
  },
  {
   "cell_type": "code",
   "execution_count": 2,
   "metadata": {},
   "outputs": [
    {
     "name": "stdout",
     "output_type": "stream",
     "text": "1.0\n"
    }
   ],
   "source": [
    "print(pow(2.10000, 0))"
   ]
  },
  {
   "cell_type": "code",
   "execution_count": null,
   "metadata": {},
   "outputs": [],
   "source": []
  }
 ]
}